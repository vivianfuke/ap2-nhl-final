{
  "nbformat": 4,
  "nbformat_minor": 0,
  "metadata": {
    "colab": {
      "provenance": []
    },
    "kernelspec": {
      "name": "python3",
      "display_name": "Python 3"
    },
    "language_info": {
      "name": "python"
    }
  },
  "cells": [
    {
      "cell_type": "markdown",
      "source": [
        "1. \n",
        "Regressão linear simples\n",
        "Variáveis dependentes: Gols feitos, gols tomados, ano, posição, time e  jogos. \n",
        "Variáveis independentes: Vitórias, derrotas, empates, vitórias nos pênaltis, derrotas nos pênaltis, porcentagem vitória e derrota. "
      ],
      "metadata": {
        "id": "4twmSoaUrey5"
      }
    },
    {
      "cell_type": "code",
      "execution_count": null,
      "metadata": {
        "id": "igTsLiKF4vTd"
      },
      "outputs": [],
      "source": [
        "import pandas as pd\n",
        "import matplotlib.pyplot as plt\n",
        "import seaborn as sns"
      ]
    },
    {
      "cell_type": "code",
      "source": [
        "base_nhl = pd.read_csv('https://github.com/luanasekitani/base_nhl/raw/main/nhlplayoffs.csv')\n",
        "base_nhl"
      ],
      "metadata": {
        "colab": {
          "base_uri": "https://localhost:8080/",
          "height": 554
        },
        "id": "FamGoRVj43uO",
        "outputId": "4d400c0a-e11d-4616-a8cb-c6ba4aed083c"
      },
      "execution_count": null,
      "outputs": [
        {
          "output_type": "execute_result",
          "data": {
            "text/plain": [
              "      rank                  team  year  games  wins  losses  ties  \\\n",
              "0        1    Colorado Avalanche  2022     20    16       4     0   \n",
              "1        2   Tampa Bay Lightning  2022     23    14       9     0   \n",
              "2        3      New York Rangers  2022     20    10      10     0   \n",
              "3        4       Edmonton Oilers  2022     16     8       8     0   \n",
              "4        5   Carolina Hurricanes  2022     14     7       7     0   \n",
              "...    ...                   ...   ...    ...   ...     ...   ...   \n",
              "1004     2  Toronto St. Patricks  1921      2     0       2     0   \n",
              "1005     1    Montreal Canadiens  1919      5     4       1     0   \n",
              "1006     2       Ottawa Senators  1919      5     1       4     0   \n",
              "1007     1    Montreal Canadiens  1918      2     1       1     0   \n",
              "1008     2        Toronto Arenas  1918      2     1       1     0   \n",
              "\n",
              "      shootout_wins  shootout_losses  win_loss_percentage  goals_scored  \\\n",
              "0                 5                1                0.800            85   \n",
              "1                 1                2                0.609            67   \n",
              "2                 1                2                0.500            62   \n",
              "3                 1                2                0.500            65   \n",
              "4                 1                0                0.500            37   \n",
              "...             ...              ...                  ...           ...   \n",
              "1004              0                0                0.000             0   \n",
              "1005              0                0                0.800            26   \n",
              "1006              0                0                0.200            18   \n",
              "1007              0                0                0.500             7   \n",
              "1008              0                0                0.500            10   \n",
              "\n",
              "      goals_against  goal_differential  \n",
              "0                55                 30  \n",
              "1                61                  6  \n",
              "2                58                  4  \n",
              "3                59                  6  \n",
              "4                40                 -3  \n",
              "...             ...                ...  \n",
              "1004              7                 -7  \n",
              "1005             18                  8  \n",
              "1006             26                 -8  \n",
              "1007             10                 -3  \n",
              "1008              7                  3  \n",
              "\n",
              "[1009 rows x 13 columns]"
            ],
            "text/html": [
              "\n",
              "  <div id=\"df-27f22c45-67fa-43ab-b12d-875e5188d980\">\n",
              "    <div class=\"colab-df-container\">\n",
              "      <div>\n",
              "<style scoped>\n",
              "    .dataframe tbody tr th:only-of-type {\n",
              "        vertical-align: middle;\n",
              "    }\n",
              "\n",
              "    .dataframe tbody tr th {\n",
              "        vertical-align: top;\n",
              "    }\n",
              "\n",
              "    .dataframe thead th {\n",
              "        text-align: right;\n",
              "    }\n",
              "</style>\n",
              "<table border=\"1\" class=\"dataframe\">\n",
              "  <thead>\n",
              "    <tr style=\"text-align: right;\">\n",
              "      <th></th>\n",
              "      <th>rank</th>\n",
              "      <th>team</th>\n",
              "      <th>year</th>\n",
              "      <th>games</th>\n",
              "      <th>wins</th>\n",
              "      <th>losses</th>\n",
              "      <th>ties</th>\n",
              "      <th>shootout_wins</th>\n",
              "      <th>shootout_losses</th>\n",
              "      <th>win_loss_percentage</th>\n",
              "      <th>goals_scored</th>\n",
              "      <th>goals_against</th>\n",
              "      <th>goal_differential</th>\n",
              "    </tr>\n",
              "  </thead>\n",
              "  <tbody>\n",
              "    <tr>\n",
              "      <th>0</th>\n",
              "      <td>1</td>\n",
              "      <td>Colorado Avalanche</td>\n",
              "      <td>2022</td>\n",
              "      <td>20</td>\n",
              "      <td>16</td>\n",
              "      <td>4</td>\n",
              "      <td>0</td>\n",
              "      <td>5</td>\n",
              "      <td>1</td>\n",
              "      <td>0.800</td>\n",
              "      <td>85</td>\n",
              "      <td>55</td>\n",
              "      <td>30</td>\n",
              "    </tr>\n",
              "    <tr>\n",
              "      <th>1</th>\n",
              "      <td>2</td>\n",
              "      <td>Tampa Bay Lightning</td>\n",
              "      <td>2022</td>\n",
              "      <td>23</td>\n",
              "      <td>14</td>\n",
              "      <td>9</td>\n",
              "      <td>0</td>\n",
              "      <td>1</td>\n",
              "      <td>2</td>\n",
              "      <td>0.609</td>\n",
              "      <td>67</td>\n",
              "      <td>61</td>\n",
              "      <td>6</td>\n",
              "    </tr>\n",
              "    <tr>\n",
              "      <th>2</th>\n",
              "      <td>3</td>\n",
              "      <td>New York Rangers</td>\n",
              "      <td>2022</td>\n",
              "      <td>20</td>\n",
              "      <td>10</td>\n",
              "      <td>10</td>\n",
              "      <td>0</td>\n",
              "      <td>1</td>\n",
              "      <td>2</td>\n",
              "      <td>0.500</td>\n",
              "      <td>62</td>\n",
              "      <td>58</td>\n",
              "      <td>4</td>\n",
              "    </tr>\n",
              "    <tr>\n",
              "      <th>3</th>\n",
              "      <td>4</td>\n",
              "      <td>Edmonton Oilers</td>\n",
              "      <td>2022</td>\n",
              "      <td>16</td>\n",
              "      <td>8</td>\n",
              "      <td>8</td>\n",
              "      <td>0</td>\n",
              "      <td>1</td>\n",
              "      <td>2</td>\n",
              "      <td>0.500</td>\n",
              "      <td>65</td>\n",
              "      <td>59</td>\n",
              "      <td>6</td>\n",
              "    </tr>\n",
              "    <tr>\n",
              "      <th>4</th>\n",
              "      <td>5</td>\n",
              "      <td>Carolina Hurricanes</td>\n",
              "      <td>2022</td>\n",
              "      <td>14</td>\n",
              "      <td>7</td>\n",
              "      <td>7</td>\n",
              "      <td>0</td>\n",
              "      <td>1</td>\n",
              "      <td>0</td>\n",
              "      <td>0.500</td>\n",
              "      <td>37</td>\n",
              "      <td>40</td>\n",
              "      <td>-3</td>\n",
              "    </tr>\n",
              "    <tr>\n",
              "      <th>...</th>\n",
              "      <td>...</td>\n",
              "      <td>...</td>\n",
              "      <td>...</td>\n",
              "      <td>...</td>\n",
              "      <td>...</td>\n",
              "      <td>...</td>\n",
              "      <td>...</td>\n",
              "      <td>...</td>\n",
              "      <td>...</td>\n",
              "      <td>...</td>\n",
              "      <td>...</td>\n",
              "      <td>...</td>\n",
              "      <td>...</td>\n",
              "    </tr>\n",
              "    <tr>\n",
              "      <th>1004</th>\n",
              "      <td>2</td>\n",
              "      <td>Toronto St. Patricks</td>\n",
              "      <td>1921</td>\n",
              "      <td>2</td>\n",
              "      <td>0</td>\n",
              "      <td>2</td>\n",
              "      <td>0</td>\n",
              "      <td>0</td>\n",
              "      <td>0</td>\n",
              "      <td>0.000</td>\n",
              "      <td>0</td>\n",
              "      <td>7</td>\n",
              "      <td>-7</td>\n",
              "    </tr>\n",
              "    <tr>\n",
              "      <th>1005</th>\n",
              "      <td>1</td>\n",
              "      <td>Montreal Canadiens</td>\n",
              "      <td>1919</td>\n",
              "      <td>5</td>\n",
              "      <td>4</td>\n",
              "      <td>1</td>\n",
              "      <td>0</td>\n",
              "      <td>0</td>\n",
              "      <td>0</td>\n",
              "      <td>0.800</td>\n",
              "      <td>26</td>\n",
              "      <td>18</td>\n",
              "      <td>8</td>\n",
              "    </tr>\n",
              "    <tr>\n",
              "      <th>1006</th>\n",
              "      <td>2</td>\n",
              "      <td>Ottawa Senators</td>\n",
              "      <td>1919</td>\n",
              "      <td>5</td>\n",
              "      <td>1</td>\n",
              "      <td>4</td>\n",
              "      <td>0</td>\n",
              "      <td>0</td>\n",
              "      <td>0</td>\n",
              "      <td>0.200</td>\n",
              "      <td>18</td>\n",
              "      <td>26</td>\n",
              "      <td>-8</td>\n",
              "    </tr>\n",
              "    <tr>\n",
              "      <th>1007</th>\n",
              "      <td>1</td>\n",
              "      <td>Montreal Canadiens</td>\n",
              "      <td>1918</td>\n",
              "      <td>2</td>\n",
              "      <td>1</td>\n",
              "      <td>1</td>\n",
              "      <td>0</td>\n",
              "      <td>0</td>\n",
              "      <td>0</td>\n",
              "      <td>0.500</td>\n",
              "      <td>7</td>\n",
              "      <td>10</td>\n",
              "      <td>-3</td>\n",
              "    </tr>\n",
              "    <tr>\n",
              "      <th>1008</th>\n",
              "      <td>2</td>\n",
              "      <td>Toronto Arenas</td>\n",
              "      <td>1918</td>\n",
              "      <td>2</td>\n",
              "      <td>1</td>\n",
              "      <td>1</td>\n",
              "      <td>0</td>\n",
              "      <td>0</td>\n",
              "      <td>0</td>\n",
              "      <td>0.500</td>\n",
              "      <td>10</td>\n",
              "      <td>7</td>\n",
              "      <td>3</td>\n",
              "    </tr>\n",
              "  </tbody>\n",
              "</table>\n",
              "<p>1009 rows × 13 columns</p>\n",
              "</div>\n",
              "      <button class=\"colab-df-convert\" onclick=\"convertToInteractive('df-27f22c45-67fa-43ab-b12d-875e5188d980')\"\n",
              "              title=\"Convert this dataframe to an interactive table.\"\n",
              "              style=\"display:none;\">\n",
              "        \n",
              "  <svg xmlns=\"http://www.w3.org/2000/svg\" height=\"24px\"viewBox=\"0 0 24 24\"\n",
              "       width=\"24px\">\n",
              "    <path d=\"M0 0h24v24H0V0z\" fill=\"none\"/>\n",
              "    <path d=\"M18.56 5.44l.94 2.06.94-2.06 2.06-.94-2.06-.94-.94-2.06-.94 2.06-2.06.94zm-11 1L8.5 8.5l.94-2.06 2.06-.94-2.06-.94L8.5 2.5l-.94 2.06-2.06.94zm10 10l.94 2.06.94-2.06 2.06-.94-2.06-.94-.94-2.06-.94 2.06-2.06.94z\"/><path d=\"M17.41 7.96l-1.37-1.37c-.4-.4-.92-.59-1.43-.59-.52 0-1.04.2-1.43.59L10.3 9.45l-7.72 7.72c-.78.78-.78 2.05 0 2.83L4 21.41c.39.39.9.59 1.41.59.51 0 1.02-.2 1.41-.59l7.78-7.78 2.81-2.81c.8-.78.8-2.07 0-2.86zM5.41 20L4 18.59l7.72-7.72 1.47 1.35L5.41 20z\"/>\n",
              "  </svg>\n",
              "      </button>\n",
              "      \n",
              "  <style>\n",
              "    .colab-df-container {\n",
              "      display:flex;\n",
              "      flex-wrap:wrap;\n",
              "      gap: 12px;\n",
              "    }\n",
              "\n",
              "    .colab-df-convert {\n",
              "      background-color: #E8F0FE;\n",
              "      border: none;\n",
              "      border-radius: 50%;\n",
              "      cursor: pointer;\n",
              "      display: none;\n",
              "      fill: #1967D2;\n",
              "      height: 32px;\n",
              "      padding: 0 0 0 0;\n",
              "      width: 32px;\n",
              "    }\n",
              "\n",
              "    .colab-df-convert:hover {\n",
              "      background-color: #E2EBFA;\n",
              "      box-shadow: 0px 1px 2px rgba(60, 64, 67, 0.3), 0px 1px 3px 1px rgba(60, 64, 67, 0.15);\n",
              "      fill: #174EA6;\n",
              "    }\n",
              "\n",
              "    [theme=dark] .colab-df-convert {\n",
              "      background-color: #3B4455;\n",
              "      fill: #D2E3FC;\n",
              "    }\n",
              "\n",
              "    [theme=dark] .colab-df-convert:hover {\n",
              "      background-color: #434B5C;\n",
              "      box-shadow: 0px 1px 3px 1px rgba(0, 0, 0, 0.15);\n",
              "      filter: drop-shadow(0px 1px 2px rgba(0, 0, 0, 0.3));\n",
              "      fill: #FFFFFF;\n",
              "    }\n",
              "  </style>\n",
              "\n",
              "      <script>\n",
              "        const buttonEl =\n",
              "          document.querySelector('#df-27f22c45-67fa-43ab-b12d-875e5188d980 button.colab-df-convert');\n",
              "        buttonEl.style.display =\n",
              "          google.colab.kernel.accessAllowed ? 'block' : 'none';\n",
              "\n",
              "        async function convertToInteractive(key) {\n",
              "          const element = document.querySelector('#df-27f22c45-67fa-43ab-b12d-875e5188d980');\n",
              "          const dataTable =\n",
              "            await google.colab.kernel.invokeFunction('convertToInteractive',\n",
              "                                                     [key], {});\n",
              "          if (!dataTable) return;\n",
              "\n",
              "          const docLinkHtml = 'Like what you see? Visit the ' +\n",
              "            '<a target=\"_blank\" href=https://colab.research.google.com/notebooks/data_table.ipynb>data table notebook</a>'\n",
              "            + ' to learn more about interactive tables.';\n",
              "          element.innerHTML = '';\n",
              "          dataTable['output_type'] = 'display_data';\n",
              "          await google.colab.output.renderOutput(dataTable, element);\n",
              "          const docLink = document.createElement('div');\n",
              "          docLink.innerHTML = docLinkHtml;\n",
              "          element.appendChild(docLink);\n",
              "        }\n",
              "      </script>\n",
              "    </div>\n",
              "  </div>\n",
              "  "
            ]
          },
          "metadata": {},
          "execution_count": 2
        }
      ]
    },
    {
      "cell_type": "code",
      "source": [
        "base_nhl = base_nhl.rename(columns={'rank':'Posicao','team':'Time','year':'Ano','games':'Jogos','wins':'Vitorias','losses':'Derrotas','ties':'Empates','shootout_wins':'Vitoria_Penaltis','shootout_losses':'Derrota_Penaltis','win_loss_percentage':'Pct_Vitoria_Derrota','goals_scored':'Gols_Feitos','goals_against':'Gols_Levados','goal_differential':'Diferenca_Gols'})"
      ],
      "metadata": {
        "id": "kr3xvqhiGHuB"
      },
      "execution_count": null,
      "outputs": []
    },
    {
      "cell_type": "code",
      "source": [
        "base_nhl"
      ],
      "metadata": {
        "colab": {
          "base_uri": "https://localhost:8080/",
          "height": 679
        },
        "id": "UhsH4tjLIU9j",
        "outputId": "4adb3e7e-f8f0-4789-97ff-9bb67c74e3f3"
      },
      "execution_count": null,
      "outputs": [
        {
          "output_type": "execute_result",
          "data": {
            "text/plain": [
              "      Posicao                  Time   Ano  Jogos  Vitorias  Derrotas  Empates  \\\n",
              "0           1    Colorado Avalanche  2022     20        16         4        0   \n",
              "1           2   Tampa Bay Lightning  2022     23        14         9        0   \n",
              "2           3      New York Rangers  2022     20        10        10        0   \n",
              "3           4       Edmonton Oilers  2022     16         8         8        0   \n",
              "4           5   Carolina Hurricanes  2022     14         7         7        0   \n",
              "...       ...                   ...   ...    ...       ...       ...      ...   \n",
              "1004        2  Toronto St. Patricks  1921      2         0         2        0   \n",
              "1005        1    Montreal Canadiens  1919      5         4         1        0   \n",
              "1006        2       Ottawa Senators  1919      5         1         4        0   \n",
              "1007        1    Montreal Canadiens  1918      2         1         1        0   \n",
              "1008        2        Toronto Arenas  1918      2         1         1        0   \n",
              "\n",
              "      Vitoria_Penaltis  Derrota_Penaltis  Pct_Vitoria_Derrota  Gols_Feitos  \\\n",
              "0                    5                 1                0.800           85   \n",
              "1                    1                 2                0.609           67   \n",
              "2                    1                 2                0.500           62   \n",
              "3                    1                 2                0.500           65   \n",
              "4                    1                 0                0.500           37   \n",
              "...                ...               ...                  ...          ...   \n",
              "1004                 0                 0                0.000            0   \n",
              "1005                 0                 0                0.800           26   \n",
              "1006                 0                 0                0.200           18   \n",
              "1007                 0                 0                0.500            7   \n",
              "1008                 0                 0                0.500           10   \n",
              "\n",
              "      Gols_Levados  Diferenca_Gols  \n",
              "0               55              30  \n",
              "1               61               6  \n",
              "2               58               4  \n",
              "3               59               6  \n",
              "4               40              -3  \n",
              "...            ...             ...  \n",
              "1004             7              -7  \n",
              "1005            18               8  \n",
              "1006            26              -8  \n",
              "1007            10              -3  \n",
              "1008             7               3  \n",
              "\n",
              "[1009 rows x 13 columns]"
            ],
            "text/html": [
              "\n",
              "  <div id=\"df-b7b430f6-2b8f-4e84-b54c-1407a906a141\">\n",
              "    <div class=\"colab-df-container\">\n",
              "      <div>\n",
              "<style scoped>\n",
              "    .dataframe tbody tr th:only-of-type {\n",
              "        vertical-align: middle;\n",
              "    }\n",
              "\n",
              "    .dataframe tbody tr th {\n",
              "        vertical-align: top;\n",
              "    }\n",
              "\n",
              "    .dataframe thead th {\n",
              "        text-align: right;\n",
              "    }\n",
              "</style>\n",
              "<table border=\"1\" class=\"dataframe\">\n",
              "  <thead>\n",
              "    <tr style=\"text-align: right;\">\n",
              "      <th></th>\n",
              "      <th>Posicao</th>\n",
              "      <th>Time</th>\n",
              "      <th>Ano</th>\n",
              "      <th>Jogos</th>\n",
              "      <th>Vitorias</th>\n",
              "      <th>Derrotas</th>\n",
              "      <th>Empates</th>\n",
              "      <th>Vitoria_Penaltis</th>\n",
              "      <th>Derrota_Penaltis</th>\n",
              "      <th>Pct_Vitoria_Derrota</th>\n",
              "      <th>Gols_Feitos</th>\n",
              "      <th>Gols_Levados</th>\n",
              "      <th>Diferenca_Gols</th>\n",
              "    </tr>\n",
              "  </thead>\n",
              "  <tbody>\n",
              "    <tr>\n",
              "      <th>0</th>\n",
              "      <td>1</td>\n",
              "      <td>Colorado Avalanche</td>\n",
              "      <td>2022</td>\n",
              "      <td>20</td>\n",
              "      <td>16</td>\n",
              "      <td>4</td>\n",
              "      <td>0</td>\n",
              "      <td>5</td>\n",
              "      <td>1</td>\n",
              "      <td>0.800</td>\n",
              "      <td>85</td>\n",
              "      <td>55</td>\n",
              "      <td>30</td>\n",
              "    </tr>\n",
              "    <tr>\n",
              "      <th>1</th>\n",
              "      <td>2</td>\n",
              "      <td>Tampa Bay Lightning</td>\n",
              "      <td>2022</td>\n",
              "      <td>23</td>\n",
              "      <td>14</td>\n",
              "      <td>9</td>\n",
              "      <td>0</td>\n",
              "      <td>1</td>\n",
              "      <td>2</td>\n",
              "      <td>0.609</td>\n",
              "      <td>67</td>\n",
              "      <td>61</td>\n",
              "      <td>6</td>\n",
              "    </tr>\n",
              "    <tr>\n",
              "      <th>2</th>\n",
              "      <td>3</td>\n",
              "      <td>New York Rangers</td>\n",
              "      <td>2022</td>\n",
              "      <td>20</td>\n",
              "      <td>10</td>\n",
              "      <td>10</td>\n",
              "      <td>0</td>\n",
              "      <td>1</td>\n",
              "      <td>2</td>\n",
              "      <td>0.500</td>\n",
              "      <td>62</td>\n",
              "      <td>58</td>\n",
              "      <td>4</td>\n",
              "    </tr>\n",
              "    <tr>\n",
              "      <th>3</th>\n",
              "      <td>4</td>\n",
              "      <td>Edmonton Oilers</td>\n",
              "      <td>2022</td>\n",
              "      <td>16</td>\n",
              "      <td>8</td>\n",
              "      <td>8</td>\n",
              "      <td>0</td>\n",
              "      <td>1</td>\n",
              "      <td>2</td>\n",
              "      <td>0.500</td>\n",
              "      <td>65</td>\n",
              "      <td>59</td>\n",
              "      <td>6</td>\n",
              "    </tr>\n",
              "    <tr>\n",
              "      <th>4</th>\n",
              "      <td>5</td>\n",
              "      <td>Carolina Hurricanes</td>\n",
              "      <td>2022</td>\n",
              "      <td>14</td>\n",
              "      <td>7</td>\n",
              "      <td>7</td>\n",
              "      <td>0</td>\n",
              "      <td>1</td>\n",
              "      <td>0</td>\n",
              "      <td>0.500</td>\n",
              "      <td>37</td>\n",
              "      <td>40</td>\n",
              "      <td>-3</td>\n",
              "    </tr>\n",
              "    <tr>\n",
              "      <th>...</th>\n",
              "      <td>...</td>\n",
              "      <td>...</td>\n",
              "      <td>...</td>\n",
              "      <td>...</td>\n",
              "      <td>...</td>\n",
              "      <td>...</td>\n",
              "      <td>...</td>\n",
              "      <td>...</td>\n",
              "      <td>...</td>\n",
              "      <td>...</td>\n",
              "      <td>...</td>\n",
              "      <td>...</td>\n",
              "      <td>...</td>\n",
              "    </tr>\n",
              "    <tr>\n",
              "      <th>1004</th>\n",
              "      <td>2</td>\n",
              "      <td>Toronto St. Patricks</td>\n",
              "      <td>1921</td>\n",
              "      <td>2</td>\n",
              "      <td>0</td>\n",
              "      <td>2</td>\n",
              "      <td>0</td>\n",
              "      <td>0</td>\n",
              "      <td>0</td>\n",
              "      <td>0.000</td>\n",
              "      <td>0</td>\n",
              "      <td>7</td>\n",
              "      <td>-7</td>\n",
              "    </tr>\n",
              "    <tr>\n",
              "      <th>1005</th>\n",
              "      <td>1</td>\n",
              "      <td>Montreal Canadiens</td>\n",
              "      <td>1919</td>\n",
              "      <td>5</td>\n",
              "      <td>4</td>\n",
              "      <td>1</td>\n",
              "      <td>0</td>\n",
              "      <td>0</td>\n",
              "      <td>0</td>\n",
              "      <td>0.800</td>\n",
              "      <td>26</td>\n",
              "      <td>18</td>\n",
              "      <td>8</td>\n",
              "    </tr>\n",
              "    <tr>\n",
              "      <th>1006</th>\n",
              "      <td>2</td>\n",
              "      <td>Ottawa Senators</td>\n",
              "      <td>1919</td>\n",
              "      <td>5</td>\n",
              "      <td>1</td>\n",
              "      <td>4</td>\n",
              "      <td>0</td>\n",
              "      <td>0</td>\n",
              "      <td>0</td>\n",
              "      <td>0.200</td>\n",
              "      <td>18</td>\n",
              "      <td>26</td>\n",
              "      <td>-8</td>\n",
              "    </tr>\n",
              "    <tr>\n",
              "      <th>1007</th>\n",
              "      <td>1</td>\n",
              "      <td>Montreal Canadiens</td>\n",
              "      <td>1918</td>\n",
              "      <td>2</td>\n",
              "      <td>1</td>\n",
              "      <td>1</td>\n",
              "      <td>0</td>\n",
              "      <td>0</td>\n",
              "      <td>0</td>\n",
              "      <td>0.500</td>\n",
              "      <td>7</td>\n",
              "      <td>10</td>\n",
              "      <td>-3</td>\n",
              "    </tr>\n",
              "    <tr>\n",
              "      <th>1008</th>\n",
              "      <td>2</td>\n",
              "      <td>Toronto Arenas</td>\n",
              "      <td>1918</td>\n",
              "      <td>2</td>\n",
              "      <td>1</td>\n",
              "      <td>1</td>\n",
              "      <td>0</td>\n",
              "      <td>0</td>\n",
              "      <td>0</td>\n",
              "      <td>0.500</td>\n",
              "      <td>10</td>\n",
              "      <td>7</td>\n",
              "      <td>3</td>\n",
              "    </tr>\n",
              "  </tbody>\n",
              "</table>\n",
              "<p>1009 rows × 13 columns</p>\n",
              "</div>\n",
              "      <button class=\"colab-df-convert\" onclick=\"convertToInteractive('df-b7b430f6-2b8f-4e84-b54c-1407a906a141')\"\n",
              "              title=\"Convert this dataframe to an interactive table.\"\n",
              "              style=\"display:none;\">\n",
              "        \n",
              "  <svg xmlns=\"http://www.w3.org/2000/svg\" height=\"24px\"viewBox=\"0 0 24 24\"\n",
              "       width=\"24px\">\n",
              "    <path d=\"M0 0h24v24H0V0z\" fill=\"none\"/>\n",
              "    <path d=\"M18.56 5.44l.94 2.06.94-2.06 2.06-.94-2.06-.94-.94-2.06-.94 2.06-2.06.94zm-11 1L8.5 8.5l.94-2.06 2.06-.94-2.06-.94L8.5 2.5l-.94 2.06-2.06.94zm10 10l.94 2.06.94-2.06 2.06-.94-2.06-.94-.94-2.06-.94 2.06-2.06.94z\"/><path d=\"M17.41 7.96l-1.37-1.37c-.4-.4-.92-.59-1.43-.59-.52 0-1.04.2-1.43.59L10.3 9.45l-7.72 7.72c-.78.78-.78 2.05 0 2.83L4 21.41c.39.39.9.59 1.41.59.51 0 1.02-.2 1.41-.59l7.78-7.78 2.81-2.81c.8-.78.8-2.07 0-2.86zM5.41 20L4 18.59l7.72-7.72 1.47 1.35L5.41 20z\"/>\n",
              "  </svg>\n",
              "      </button>\n",
              "      \n",
              "  <style>\n",
              "    .colab-df-container {\n",
              "      display:flex;\n",
              "      flex-wrap:wrap;\n",
              "      gap: 12px;\n",
              "    }\n",
              "\n",
              "    .colab-df-convert {\n",
              "      background-color: #E8F0FE;\n",
              "      border: none;\n",
              "      border-radius: 50%;\n",
              "      cursor: pointer;\n",
              "      display: none;\n",
              "      fill: #1967D2;\n",
              "      height: 32px;\n",
              "      padding: 0 0 0 0;\n",
              "      width: 32px;\n",
              "    }\n",
              "\n",
              "    .colab-df-convert:hover {\n",
              "      background-color: #E2EBFA;\n",
              "      box-shadow: 0px 1px 2px rgba(60, 64, 67, 0.3), 0px 1px 3px 1px rgba(60, 64, 67, 0.15);\n",
              "      fill: #174EA6;\n",
              "    }\n",
              "\n",
              "    [theme=dark] .colab-df-convert {\n",
              "      background-color: #3B4455;\n",
              "      fill: #D2E3FC;\n",
              "    }\n",
              "\n",
              "    [theme=dark] .colab-df-convert:hover {\n",
              "      background-color: #434B5C;\n",
              "      box-shadow: 0px 1px 3px 1px rgba(0, 0, 0, 0.15);\n",
              "      filter: drop-shadow(0px 1px 2px rgba(0, 0, 0, 0.3));\n",
              "      fill: #FFFFFF;\n",
              "    }\n",
              "  </style>\n",
              "\n",
              "      <script>\n",
              "        const buttonEl =\n",
              "          document.querySelector('#df-b7b430f6-2b8f-4e84-b54c-1407a906a141 button.colab-df-convert');\n",
              "        buttonEl.style.display =\n",
              "          google.colab.kernel.accessAllowed ? 'block' : 'none';\n",
              "\n",
              "        async function convertToInteractive(key) {\n",
              "          const element = document.querySelector('#df-b7b430f6-2b8f-4e84-b54c-1407a906a141');\n",
              "          const dataTable =\n",
              "            await google.colab.kernel.invokeFunction('convertToInteractive',\n",
              "                                                     [key], {});\n",
              "          if (!dataTable) return;\n",
              "\n",
              "          const docLinkHtml = 'Like what you see? Visit the ' +\n",
              "            '<a target=\"_blank\" href=https://colab.research.google.com/notebooks/data_table.ipynb>data table notebook</a>'\n",
              "            + ' to learn more about interactive tables.';\n",
              "          element.innerHTML = '';\n",
              "          dataTable['output_type'] = 'display_data';\n",
              "          await google.colab.output.renderOutput(dataTable, element);\n",
              "          const docLink = document.createElement('div');\n",
              "          docLink.innerHTML = docLinkHtml;\n",
              "          element.appendChild(docLink);\n",
              "        }\n",
              "      </script>\n",
              "    </div>\n",
              "  </div>\n",
              "  "
            ]
          },
          "metadata": {},
          "execution_count": 4
        }
      ]
    },
    {
      "cell_type": "code",
      "source": [
        "base_nhl.isnull().sum()"
      ],
      "metadata": {
        "colab": {
          "base_uri": "https://localhost:8080/"
        },
        "id": "txKSFZ5GIlIK",
        "outputId": "9f86d05f-c6f5-45d1-f605-1f7ae28eee74"
      },
      "execution_count": null,
      "outputs": [
        {
          "output_type": "execute_result",
          "data": {
            "text/plain": [
              "Posicao                0\n",
              "Time                   0\n",
              "Ano                    0\n",
              "Jogos                  0\n",
              "Vitorias               0\n",
              "Derrotas               0\n",
              "Empates                0\n",
              "Vitoria_Penaltis       0\n",
              "Derrota_Penaltis       0\n",
              "Pct_Vitoria_Derrota    0\n",
              "Gols_Feitos            0\n",
              "Gols_Levados           0\n",
              "Diferenca_Gols         0\n",
              "dtype: int64"
            ]
          },
          "metadata": {},
          "execution_count": 5
        }
      ]
    },
    {
      "cell_type": "code",
      "source": [
        "base_nhl.Time.value_counts()"
      ],
      "metadata": {
        "colab": {
          "base_uri": "https://localhost:8080/"
        },
        "id": "mrLDkIGCIsT0",
        "outputId": "84e408ab-8d79-49e0-cff0-acd4fff3a65a"
      },
      "execution_count": null,
      "outputs": [
        {
          "output_type": "execute_result",
          "data": {
            "text/plain": [
              "Montreal Canadiens         85\n",
              "Boston Bruins              75\n",
              "Toronto Maple Leafs        67\n",
              "Detroit Red Wings          62\n",
              "New York Rangers           61\n",
              "St. Louis Blues            45\n",
              "Chicago Black Hawks        41\n",
              "Philadelphia Flyers        40\n",
              "Pittsburgh Penguins        37\n",
              "Washington Capitals        32\n",
              "Los Angeles Kings          31\n",
              "Buffalo Sabres             29\n",
              "Vancouver Canucks          28\n",
              "New York Islanders         27\n",
              "Ottawa Senators            25\n",
              "Calgary Flames             25\n",
              "Edmonton Oilers            24\n",
              "New Jersey Devils          22\n",
              "Chicago Blackhawks         22\n",
              "San Jose Sharks            21\n",
              "Colorado Avalanche         18\n",
              "Minnesota North Stars      17\n",
              "Dallas Stars               17\n",
              "Winnipeg Jets              16\n",
              "Nashville Predators        15\n",
              "Tampa Bay Lightning        14\n",
              "Minnesota Wild             12\n",
              "Montreal Maroons           11\n",
              "Anaheim Ducks              10\n",
              "Carolina Hurricanes         9\n",
              "Quebec Nordiques            9\n",
              "Phoenix Coyotes             8\n",
              "Florida Panthers            8\n",
              "Hartford Whalers            8\n",
              "Atlanta Flames              6\n",
              "Columbus Blue Jackets       6\n",
              "New York Americans          5\n",
              "Mighty Ducks of Anaheim     4\n",
              "Vegas Golden Knights        4\n",
              "Toronto St. Patricks        3\n",
              "Oakland Seals               2\n",
              "Pittsburgh Pirates          2\n",
              "Atlanta Thrashers           1\n",
              "Arizona Coyotes             1\n",
              "Colorado Rockies            1\n",
              "Detroit Falcons             1\n",
              "Detroit Cougars             1\n",
              "Toronto Arenas              1\n",
              "Name: Time, dtype: int64"
            ]
          },
          "metadata": {},
          "execution_count": 6
        }
      ]
    },
    {
      "cell_type": "code",
      "source": [
        "base_nhl.info()"
      ],
      "metadata": {
        "colab": {
          "base_uri": "https://localhost:8080/"
        },
        "id": "7PwX-TKYIsg3",
        "outputId": "a5a326e1-e2e3-4428-f8f3-367e6876ee39"
      },
      "execution_count": null,
      "outputs": [
        {
          "output_type": "stream",
          "name": "stdout",
          "text": [
            "<class 'pandas.core.frame.DataFrame'>\n",
            "RangeIndex: 1009 entries, 0 to 1008\n",
            "Data columns (total 13 columns):\n",
            " #   Column               Non-Null Count  Dtype  \n",
            "---  ------               --------------  -----  \n",
            " 0   Posicao              1009 non-null   int64  \n",
            " 1   Time                 1009 non-null   object \n",
            " 2   Ano                  1009 non-null   int64  \n",
            " 3   Jogos                1009 non-null   int64  \n",
            " 4   Vitorias             1009 non-null   int64  \n",
            " 5   Derrotas             1009 non-null   int64  \n",
            " 6   Empates              1009 non-null   int64  \n",
            " 7   Vitoria_Penaltis     1009 non-null   int64  \n",
            " 8   Derrota_Penaltis     1009 non-null   int64  \n",
            " 9   Pct_Vitoria_Derrota  1009 non-null   float64\n",
            " 10  Gols_Feitos          1009 non-null   int64  \n",
            " 11  Gols_Levados         1009 non-null   int64  \n",
            " 12  Diferenca_Gols       1009 non-null   int64  \n",
            "dtypes: float64(1), int64(11), object(1)\n",
            "memory usage: 102.6+ KB\n"
          ]
        }
      ]
    },
    {
      "cell_type": "code",
      "source": [
        "tab_freq = base_nhl.Time.value_counts().head(20)\n",
        "tab_freq"
      ],
      "metadata": {
        "colab": {
          "base_uri": "https://localhost:8080/"
        },
        "id": "J4ZtkxX3KY9N",
        "outputId": "625f1144-aadd-4dea-8420-bb3e394eb3bf"
      },
      "execution_count": null,
      "outputs": [
        {
          "output_type": "execute_result",
          "data": {
            "text/plain": [
              "Montreal Canadiens     85\n",
              "Boston Bruins          75\n",
              "Toronto Maple Leafs    67\n",
              "Detroit Red Wings      62\n",
              "New York Rangers       61\n",
              "St. Louis Blues        45\n",
              "Chicago Black Hawks    41\n",
              "Philadelphia Flyers    40\n",
              "Pittsburgh Penguins    37\n",
              "Washington Capitals    32\n",
              "Los Angeles Kings      31\n",
              "Buffalo Sabres         29\n",
              "Vancouver Canucks      28\n",
              "New York Islanders     27\n",
              "Ottawa Senators        25\n",
              "Calgary Flames         25\n",
              "Edmonton Oilers        24\n",
              "New Jersey Devils      22\n",
              "Chicago Blackhawks     22\n",
              "San Jose Sharks        21\n",
              "Name: Time, dtype: int64"
            ]
          },
          "metadata": {},
          "execution_count": 8
        }
      ]
    },
    {
      "cell_type": "code",
      "source": [
        "tab_freq.plot.bar()"
      ],
      "metadata": {
        "id": "nBM-PR4JKyvk",
        "colab": {
          "base_uri": "https://localhost:8080/",
          "height": 581
        },
        "outputId": "b4bac9d0-4db3-45f4-ebf9-28c74cca9714"
      },
      "execution_count": null,
      "outputs": [
        {
          "output_type": "execute_result",
          "data": {
            "text/plain": [
              "<Axes: >"
            ]
          },
          "metadata": {},
          "execution_count": 9
        },
        {
          "output_type": "display_data",
          "data": {
            "text/plain": [
              "<Figure size 640x480 with 1 Axes>"
            ],
            "image/png": "[encoded data removed]"
          },
          "metadata": {}
        }
      ]
    },
    {
      "cell_type": "markdown",
      "source": [
        "De acordo com esse gráfico, podemos observar que o time Montreal Canadiens foi o time que mais teve aparições nos playoffs desde 1918 e logo em seguida os times Boston Bruins e Toronto Maple Leafs.\n"
      ],
      "metadata": {
        "id": "usmHLYdYXPav"
      }
    },
    {
      "cell_type": "code",
      "source": [
        "tab_cruzada = pd.crosstab(base_nhl.Jogos,base_nhl.Vitorias,margins=False)\n",
        "tab_cruzada.plot.box()"
      ],
      "metadata": {
        "colab": {
          "base_uri": "https://localhost:8080/",
          "height": 447
        },
        "id": "9P-dUi9JLmd-",
        "outputId": "d769c662-d4d5-4072-b244-a2eed1bf0fea"
      },
      "execution_count": null,
      "outputs": [
        {
          "output_type": "execute_result",
          "data": {
            "text/plain": [
              "<Axes: >"
            ]
          },
          "metadata": {},
          "execution_count": 10
        },
        {
          "output_type": "display_data",
          "data": {
            "text/plain": [
              "<Figure size 640x480 with 1 Axes>"
            ],
            "image/png": "[encoded data removed]"
          },
          "metadata": {}
        }
      ]
    },
    {
      "cell_type": "markdown",
      "source": [
        "De acordo com esse gráfico boxplot podemos afirmar que New York Rangers apresenta maior variabilidade em jogos e vitórias do que outros times."
      ],
      "metadata": {
        "id": "XMq9UAOWdyXV"
      }
    },
    {
      "cell_type": "code",
      "source": [
        "base_nhl['Diferenca_Gols'].plot.hist()"
      ],
      "metadata": {
        "colab": {
          "base_uri": "https://localhost:8080/",
          "height": 447
        },
        "id": "GIf0xk8eOLlR",
        "outputId": "62b8e6e9-0cff-4b4e-94bb-f7618e9c0d97"
      },
      "execution_count": null,
      "outputs": [
        {
          "output_type": "execute_result",
          "data": {
            "text/plain": [
              "<Axes: ylabel='Frequency'>"
            ]
          },
          "metadata": {},
          "execution_count": 11
        },
        {
          "output_type": "display_data",
          "data": {
            "text/plain": [
              "<Figure size 640x480 with 1 Axes>"
            ],
            "image/png": "[encoded data removed]"
          },
          "metadata": {}
        }
      ]
    },
    {
      "cell_type": "markdown",
      "source": [
        "De acordo com este histograma podemos afirmar que há uma alta variancia na diferença de gols de cada time. \n"
      ],
      "metadata": {
        "id": "MNrpK4D9fhPW"
      }
    },
    {
      "cell_type": "code",
      "source": [
        "freq_situação = base_nhl['Vitorias'].value_counts()"
      ],
      "metadata": {
        "id": "MV6oZ82mO_aP"
      },
      "execution_count": null,
      "outputs": []
    },
    {
      "cell_type": "code",
      "source": [
        "freq_situação = base_nhl.Vitorias.value_counts()\n",
        "freq_situação.plot.pie()"
      ],
      "metadata": {
        "colab": {
          "base_uri": "https://localhost:8080/",
          "height": 423
        },
        "id": "tgC9aOqxPMAw",
        "outputId": "89be5fab-a8b3-4bc9-fce8-9ec483951226"
      },
      "execution_count": null,
      "outputs": [
        {
          "output_type": "execute_result",
          "data": {
            "text/plain": [
              "<Axes: ylabel='Vitorias'>"
            ]
          },
          "metadata": {},
          "execution_count": 13
        },
        {
          "output_type": "display_data",
          "data": {
            "text/plain": [
              "<Figure size 640x480 with 1 Axes>"
            ],
            "image/png": "[encoded data removed]"
          },
          "metadata": {}
        }
      ]
    },
    {
      "cell_type": "markdown",
      "source": [
        "De acordo com o gráfico podemos analisar a quantidade de vitórias que os times tiveram nos playoof desde 1918."
      ],
      "metadata": {
        "id": "cXkEde57uAHM"
      }
    },
    {
      "cell_type": "code",
      "source": [
        "sns.heatmap(base_nhl.corr())"
      ],
      "metadata": {
        "colab": {
          "base_uri": "https://localhost:8080/",
          "height": 627
        },
        "id": "6HKEiBmP5cqP",
        "outputId": "465fc7ae-05ba-4347-ccfb-da6bbcaa4a4a"
      },
      "execution_count": null,
      "outputs": [
        {
          "output_type": "stream",
          "name": "stderr",
          "text": [
            "<ipython-input-14-eec23832c431>:1: FutureWarning: The default value of numeric_only in DataFrame.corr is deprecated. In a future version, it will default to False. Select only valid columns or specify the value of numeric_only to silence this warning.\n",
            "  sns.heatmap(base_nhl.corr())\n"
          ]
        },
        {
          "output_type": "execute_result",
          "data": {
            "text/plain": [
              "<Axes: >"
            ]
          },
          "metadata": {},
          "execution_count": 14
        },
        {
          "output_type": "display_data",
          "data": {
            "text/plain": [
              "<Figure size 640x480 with 2 Axes>"
            ],
            "image/png": "[encoded data removed]"
          },
          "metadata": {}
        }
      ]
    },
    {
      "cell_type": "markdown",
      "source": [
        "**Correlação entre Jogos e Vitorias**\n"
      ],
      "metadata": {
        "id": "gJpAdiRgxiDY"
      }
    },
    {
      "cell_type": "code",
      "source": [
        "Vit_jogos = base_nhl[ ['Jogos','Vitorias'] ]\n",
        "print(Vit_jogos)"
      ],
      "metadata": {
        "colab": {
          "base_uri": "https://localhost:8080/"
        },
        "id": "xVwq0sxkGnhh",
        "outputId": "12cb2110-43c8-4adb-d48b-3c7b913fffcf"
      },
      "execution_count": null,
      "outputs": [
        {
          "output_type": "stream",
          "name": "stdout",
          "text": [
            "      Jogos  Vitorias\n",
            "0        20        16\n",
            "1        23        14\n",
            "2        20        10\n",
            "3        16         8\n",
            "4        14         7\n",
            "...     ...       ...\n",
            "1004      2         0\n",
            "1005      5         4\n",
            "1006      5         1\n",
            "1007      2         1\n",
            "1008      2         1\n",
            "\n",
            "[1009 rows x 2 columns]\n"
          ]
        }
      ]
    },
    {
      "cell_type": "code",
      "source": [
        "Vit_jogos.corr()"
      ],
      "metadata": {
        "colab": {
          "base_uri": "https://localhost:8080/",
          "height": 112
        },
        "id": "i2b_1p0hHAzB",
        "outputId": "edb5b014-8b44-4663-e057-661140bce597"
      },
      "execution_count": null,
      "outputs": [
        {
          "output_type": "execute_result",
          "data": {
            "text/plain": [
              "             Jogos  Vitorias\n",
              "Jogos     1.000000  0.966591\n",
              "Vitorias  0.966591  1.000000"
            ],
            "text/html": [
              "\n",
              "  <div id=\"df-dfcae65a-84db-434f-b7f6-d20075d5bbf1\">\n",
              "    <div class=\"colab-df-container\">\n",
              "      <div>\n",
              "<style scoped>\n",
              "    .dataframe tbody tr th:only-of-type {\n",
              "        vertical-align: middle;\n",
              "    }\n",
              "\n",
              "    .dataframe tbody tr th {\n",
              "        vertical-align: top;\n",
              "    }\n",
              "\n",
              "    .dataframe thead th {\n",
              "        text-align: right;\n",
              "    }\n",
              "</style>\n",
              "<table border=\"1\" class=\"dataframe\">\n",
              "  <thead>\n",
              "    <tr style=\"text-align: right;\">\n",
              "      <th></th>\n",
              "      <th>Jogos</th>\n",
              "      <th>Vitorias</th>\n",
              "    </tr>\n",
              "  </thead>\n",
              "  <tbody>\n",
              "    <tr>\n",
              "      <th>Jogos</th>\n",
              "      <td>1.000000</td>\n",
              "      <td>0.966591</td>\n",
              "    </tr>\n",
              "    <tr>\n",
              "      <th>Vitorias</th>\n",
              "      <td>0.966591</td>\n",
              "      <td>1.000000</td>\n",
              "    </tr>\n",
              "  </tbody>\n",
              "</table>\n",
              "</div>\n",
              "      <button class=\"colab-df-convert\" onclick=\"convertToInteractive('df-dfcae65a-84db-434f-b7f6-d20075d5bbf1')\"\n",
              "              title=\"Convert this dataframe to an interactive table.\"\n",
              "              style=\"display:none;\">\n",
              "        \n",
              "  <svg xmlns=\"http://www.w3.org/2000/svg\" height=\"24px\"viewBox=\"0 0 24 24\"\n",
              "       width=\"24px\">\n",
              "    <path d=\"M0 0h24v24H0V0z\" fill=\"none\"/>\n",
              "    <path d=\"M18.56 5.44l.94 2.06.94-2.06 2.06-.94-2.06-.94-.94-2.06-.94 2.06-2.06.94zm-11 1L8.5 8.5l.94-2.06 2.06-.94-2.06-.94L8.5 2.5l-.94 2.06-2.06.94zm10 10l.94 2.06.94-2.06 2.06-.94-2.06-.94-.94-2.06-.94 2.06-2.06.94z\"/><path d=\"M17.41 7.96l-1.37-1.37c-.4-.4-.92-.59-1.43-.59-.52 0-1.04.2-1.43.59L10.3 9.45l-7.72 7.72c-.78.78-.78 2.05 0 2.83L4 21.41c.39.39.9.59 1.41.59.51 0 1.02-.2 1.41-.59l7.78-7.78 2.81-2.81c.8-.78.8-2.07 0-2.86zM5.41 20L4 18.59l7.72-7.72 1.47 1.35L5.41 20z\"/>\n",
              "  </svg>\n",
              "      </button>\n",
              "      \n",
              "  <style>\n",
              "    .colab-df-container {\n",
              "      display:flex;\n",
              "      flex-wrap:wrap;\n",
              "      gap: 12px;\n",
              "    }\n",
              "\n",
              "    .colab-df-convert {\n",
              "      background-color: #E8F0FE;\n",
              "      border: none;\n",
              "      border-radius: 50%;\n",
              "      cursor: pointer;\n",
              "      display: none;\n",
              "      fill: #1967D2;\n",
              "      height: 32px;\n",
              "      padding: 0 0 0 0;\n",
              "      width: 32px;\n",
              "    }\n",
              "\n",
              "    .colab-df-convert:hover {\n",
              "      background-color: #E2EBFA;\n",
              "      box-shadow: 0px 1px 2px rgba(60, 64, 67, 0.3), 0px 1px 3px 1px rgba(60, 64, 67, 0.15);\n",
              "      fill: #174EA6;\n",
              "    }\n",
              "\n",
              "    [theme=dark] .colab-df-convert {\n",
              "      background-color: #3B4455;\n",
              "      fill: #D2E3FC;\n",
              "    }\n",
              "\n",
              "    [theme=dark] .colab-df-convert:hover {\n",
              "      background-color: #434B5C;\n",
              "      box-shadow: 0px 1px 3px 1px rgba(0, 0, 0, 0.15);\n",
              "      filter: drop-shadow(0px 1px 2px rgba(0, 0, 0, 0.3));\n",
              "      fill: #FFFFFF;\n",
              "    }\n",
              "  </style>\n",
              "\n",
              "      <script>\n",
              "        const buttonEl =\n",
              "          document.querySelector('#df-dfcae65a-84db-434f-b7f6-d20075d5bbf1 button.colab-df-convert');\n",
              "        buttonEl.style.display =\n",
              "          google.colab.kernel.accessAllowed ? 'block' : 'none';\n",
              "\n",
              "        async function convertToInteractive(key) {\n",
              "          const element = document.querySelector('#df-dfcae65a-84db-434f-b7f6-d20075d5bbf1');\n",
              "          const dataTable =\n",
              "            await google.colab.kernel.invokeFunction('convertToInteractive',\n",
              "                                                     [key], {});\n",
              "          if (!dataTable) return;\n",
              "\n",
              "          const docLinkHtml = 'Like what you see? Visit the ' +\n",
              "            '<a target=\"_blank\" href=https://colab.research.google.com/notebooks/data_table.ipynb>data table notebook</a>'\n",
              "            + ' to learn more about interactive tables.';\n",
              "          element.innerHTML = '';\n",
              "          dataTable['output_type'] = 'display_data';\n",
              "          await google.colab.output.renderOutput(dataTable, element);\n",
              "          const docLink = document.createElement('div');\n",
              "          docLink.innerHTML = docLinkHtml;\n",
              "          element.appendChild(docLink);\n",
              "        }\n",
              "      </script>\n",
              "    </div>\n",
              "  </div>\n",
              "  "
            ]
          },
          "metadata": {},
          "execution_count": 16
        }
      ]
    },
    {
      "cell_type": "markdown",
      "source": [
        "Correlação entre as variaveis alta e positiva"
      ],
      "metadata": {
        "id": "rv2vAoHVHlT2"
      }
    },
    {
      "cell_type": "code",
      "source": [
        "#separando entre treino =x e alvo=y\n",
        "X = Vit_jogos.iloc[:, 0].values\n",
        "y = Vit_jogos.iloc[:, 1].values"
      ],
      "metadata": {
        "id": "WFJkkaIUxKmx"
      },
      "execution_count": null,
      "outputs": []
    },
    {
      "cell_type": "code",
      "source": [
        "#treinando modelo\n",
        "from sklearn.linear_model import LinearRegression\n",
        "regressor = LinearRegression()\n",
        "regressor.fit(X.reshape(-1, 1), y.reshape(-1, 1))"
      ],
      "metadata": {
        "colab": {
          "base_uri": "https://localhost:8080/",
          "height": 75
        },
        "id": "XcVw6iLkIic3",
        "outputId": "1dd35458-e6fc-4185-87bf-93156d16eb0e"
      },
      "execution_count": null,
      "outputs": [
        {
          "output_type": "execute_result",
          "data": {
            "text/plain": [
              "LinearRegression()"
            ],
            "text/html": [
              "<style>#sk-container-id-1 {color: black;background-color: white;}#sk-container-id-1 pre{padding: 0;}#sk-container-id-1 div.sk-toggleable {background-color: white;}#sk-container-id-1 label.sk-toggleable__label {cursor: pointer;display: block;width: 100%;margin-bottom: 0;padding: 0.3em;box-sizing: border-box;text-align: center;}#sk-container-id-1 label.sk-toggleable__label-arrow:before {content: \"▸\";float: left;margin-right: 0.25em;color: #696969;}#sk-container-id-1 label.sk-toggleable__label-arrow:hover:before {color: black;}#sk-container-id-1 div.sk-estimator:hover label.sk-toggleable__label-arrow:before {color: black;}#sk-container-id-1 div.sk-toggleable__content {max-height: 0;max-width: 0;overflow: hidden;text-align: left;background-color: #f0f8ff;}#sk-container-id-1 div.sk-toggleable__content pre {margin: 0.2em;color: black;border-radius: 0.25em;background-color: #f0f8ff;}#sk-container-id-1 input.sk-toggleable__control:checked~div.sk-toggleable__content {max-height: 200px;max-width: 100%;overflow: auto;}#sk-container-id-1 input.sk-toggleable__control:checked~label.sk-toggleable__label-arrow:before {content: \"▾\";}#sk-container-id-1 div.sk-estimator input.sk-toggleable__control:checked~label.sk-toggleable__label {background-color: #d4ebff;}#sk-container-id-1 div.sk-label input.sk-toggleable__control:checked~label.sk-toggleable__label {background-color: #d4ebff;}#sk-container-id-1 input.sk-hidden--visually {border: 0;clip: rect(1px 1px 1px 1px);clip: rect(1px, 1px, 1px, 1px);height: 1px;margin: -1px;overflow: hidden;padding: 0;position: absolute;width: 1px;}#sk-container-id-1 div.sk-estimator {font-family: monospace;background-color: #f0f8ff;border: 1px dotted black;border-radius: 0.25em;box-sizing: border-box;margin-bottom: 0.5em;}#sk-container-id-1 div.sk-estimator:hover {background-color: #d4ebff;}#sk-container-id-1 div.sk-parallel-item::after {content: \"\";width: 100%;border-bottom: 1px solid gray;flex-grow: 1;}#sk-container-id-1 div.sk-label:hover label.sk-toggleable__label {background-color: #d4ebff;}#sk-container-id-1 div.sk-serial::before {content: \"\";position: absolute;border-left: 1px solid gray;box-sizing: border-box;top: 0;bottom: 0;left: 50%;z-index: 0;}#sk-container-id-1 div.sk-serial {display: flex;flex-direction: column;align-items: center;background-color: white;padding-right: 0.2em;padding-left: 0.2em;position: relative;}#sk-container-id-1 div.sk-item {position: relative;z-index: 1;}#sk-container-id-1 div.sk-parallel {display: flex;align-items: stretch;justify-content: center;background-color: white;position: relative;}#sk-container-id-1 div.sk-item::before, #sk-container-id-1 div.sk-parallel-item::before {content: \"\";position: absolute;border-left: 1px solid gray;box-sizing: border-box;top: 0;bottom: 0;left: 50%;z-index: -1;}#sk-container-id-1 div.sk-parallel-item {display: flex;flex-direction: column;z-index: 1;position: relative;background-color: white;}#sk-container-id-1 div.sk-parallel-item:first-child::after {align-self: flex-end;width: 50%;}#sk-container-id-1 div.sk-parallel-item:last-child::after {align-self: flex-start;width: 50%;}#sk-container-id-1 div.sk-parallel-item:only-child::after {width: 0;}#sk-container-id-1 div.sk-dashed-wrapped {border: 1px dashed gray;margin: 0 0.4em 0.5em 0.4em;box-sizing: border-box;padding-bottom: 0.4em;background-color: white;}#sk-container-id-1 div.sk-label label {font-family: monospace;font-weight: bold;display: inline-block;line-height: 1.2em;}#sk-container-id-1 div.sk-label-container {text-align: center;}#sk-container-id-1 div.sk-container {/* jupyter's `normalize.less` sets `[hidden] { display: none; }` but bootstrap.min.css set `[hidden] { display: none !important; }` so we also need the `!important` here to be able to override the default hidden behavior on the sphinx rendered scikit-learn.org. See: https://github.com/scikit-learn/scikit-learn/issues/21755 */display: inline-block !important;position: relative;}#sk-container-id-1 div.sk-text-repr-fallback {display: none;}</style><div id=\"sk-container-id-1\" class=\"sk-top-container\"><div class=\"sk-text-repr-fallback\"><pre>LinearRegression()</pre><b>In a Jupyter environment, please rerun this cell to show the HTML representation or trust the notebook. <br />On GitHub, the HTML representation is unable to render, please try loading this page with nbviewer.org.</b></div><div class=\"sk-container\" hidden><div class=\"sk-item\"><div class=\"sk-estimator sk-toggleable\"><input class=\"sk-toggleable__control sk-hidden--visually\" id=\"sk-estimator-id-1\" type=\"checkbox\" checked><label for=\"sk-estimator-id-1\" class=\"sk-toggleable__label sk-toggleable__label-arrow\">LinearRegression</label><div class=\"sk-toggleable__content\"><pre>LinearRegression()</pre></div></div></div></div></div>"
            ]
          },
          "metadata": {},
          "execution_count": 18
        }
      ]
    },
    {
      "cell_type": "code",
      "source": [
        "intercept = regressor.intercept_\n",
        "print(intercept)"
      ],
      "metadata": {
        "colab": {
          "base_uri": "https://localhost:8080/"
        },
        "id": "jgLyFeSeIrLL",
        "outputId": "2b693423-4433-46b5-83ff-a0efc5494fac"
      },
      "execution_count": null,
      "outputs": [
        {
          "output_type": "stream",
          "name": "stdout",
          "text": [
            "[-2.05801615]\n"
          ]
        }
      ]
    },
    {
      "cell_type": "code",
      "source": [
        "coef = regressor.coef_\n",
        "print(coef)"
      ],
      "metadata": {
        "colab": {
          "base_uri": "https://localhost:8080/"
        },
        "id": "NTOw1mFOBEG7",
        "outputId": "968b3a53-7f3c-4abc-8217-a3607e00bc1e"
      },
      "execution_count": null,
      "outputs": [
        {
          "output_type": "stream",
          "name": "stdout",
          "text": [
            "[[0.71713996]]\n"
          ]
        }
      ]
    },
    {
      "cell_type": "code",
      "source": [
        "def prever_vitorias(n):\n",
        "  prever_vitorias = intercept + n * coef\n",
        "  return prever_vitorias"
      ],
      "metadata": {
        "id": "r48E3uMXBNVF"
      },
      "execution_count": null,
      "outputs": []
    },
    {
      "cell_type": "code",
      "source": [
        "predictions = regressor.predict(X.reshape(-1, 1))\n",
        "predictions"
      ],
      "metadata": {
        "colab": {
          "base_uri": "https://localhost:8080/"
        },
        "id": "7vhEsXsxBXmv",
        "outputId": "2534e527-97aa-47c1-9030-661bd850ec36"
      },
      "execution_count": null,
      "outputs": [
        {
          "output_type": "execute_result",
          "data": {
            "text/plain": [
              "array([[12.28478295],\n",
              "       [14.43620282],\n",
              "       [12.28478295],\n",
              "       ...,\n",
              "       [ 1.52768363],\n",
              "       [-0.62373624],\n",
              "       [-0.62373624]])"
            ]
          },
          "metadata": {},
          "execution_count": 22
        }
      ]
    },
    {
      "cell_type": "code",
      "source": [
        "#prevendo quantidades de vitorias de acordo com a quantidade de jogos\n",
        "print(prever_vitorias(50))\n",
        "print(prever_vitorias(55))\n",
        "print(prever_vitorias(60))\n",
        "print(prever_vitorias(65))\n",
        "print(prever_vitorias(70))"
      ],
      "metadata": {
        "colab": {
          "base_uri": "https://localhost:8080/"
        },
        "id": "lK25uxsHBhMG",
        "outputId": "a686c2a2-4c24-4331-a33e-48f8d0cd49e2"
      },
      "execution_count": null,
      "outputs": [
        {
          "output_type": "stream",
          "name": "stdout",
          "text": [
            "[[33.7989816]]\n",
            "[[37.38468138]]\n",
            "[[40.97038115]]\n",
            "[[44.55608093]]\n",
            "[[48.14178071]]\n"
          ]
        }
      ]
    },
    {
      "cell_type": "code",
      "source": [
        "from sklearn.metrics import r2_score,mean_absolute_error, mean_squared_error\n",
        "r2 = r2_score(y.reshape(-1, 1), predictions)\n",
        "mse = mean_squared_error(y.reshape(-1, 1), predictions)\n",
        "print(\"R2: \", r2)\n",
        "print(\"MSE: \", mse)"
      ],
      "metadata": {
        "colab": {
          "base_uri": "https://localhost:8080/"
        },
        "id": "JOa_VKoOCWtZ",
        "outputId": "1f6df1cf-2ffe-4df6-b5b5-3d570c1e9382"
      },
      "execution_count": null,
      "outputs": [
        {
          "output_type": "stream",
          "name": "stdout",
          "text": [
            "R2:  0.9342973096658964\n",
            "MSE:  1.2116482412825245\n"
          ]
        }
      ]
    },
    {
      "cell_type": "code",
      "source": [
        "import statsmodels.api as sm\n",
        "\n",
        "\n",
        "\n",
        "#add constant to predictor variables\n",
        "X = sm.add_constant(X.reshape(-1, 1))\n",
        "\n",
        "#fit linear regression model\n",
        "model = sm.OLS(y.reshape(-1, 1), X).fit()\n",
        "\n",
        "#view model summary\n",
        "print(model.summary())"
      ],
      "metadata": {
        "colab": {
          "base_uri": "https://localhost:8080/"
        },
        "id": "g-gLUkEnJTtI",
        "outputId": "b90bd4bf-2e19-41ed-fec6-332708844157"
      },
      "execution_count": null,
      "outputs": [
        {
          "output_type": "stream",
          "name": "stdout",
          "text": [
            "                            OLS Regression Results                            \n",
            "==============================================================================\n",
            "Dep. Variable:                      y   R-squared:                       0.934\n",
            "Model:                            OLS   Adj. R-squared:                  0.934\n",
            "Method:                 Least Squares   F-statistic:                 1.432e+04\n",
            "Date:                Thu, 18 May 2023   Prob (F-statistic):               0.00\n",
            "Time:                        13:21:57   Log-Likelihood:                -1528.6\n",
            "No. Observations:                1009   AIC:                             3061.\n",
            "Df Residuals:                    1007   BIC:                             3071.\n",
            "Df Model:                           1                                         \n",
            "Covariance Type:            nonrobust                                         \n",
            "==============================================================================\n",
            "                 coef    std err          t      P>|t|      [0.025      0.975]\n",
            "------------------------------------------------------------------------------\n",
            "const         -2.0580      0.066    -31.196      0.000      -2.187      -1.929\n",
            "x1             0.7171      0.006    119.665      0.000       0.705       0.729\n",
            "==============================================================================\n",
            "Omnibus:                      230.528   Durbin-Watson:                   1.945\n",
            "Prob(Omnibus):                  0.000   Jarque-Bera (JB):              614.845\n",
            "Skew:                           1.173   Prob(JB):                    3.08e-134\n",
            "Kurtosis:                       6.020   Cond. No.                         21.1\n",
            "==============================================================================\n",
            "\n",
            "Notes:\n",
            "[1] Standard Errors assume that the covariance matrix of the errors is correctly specified.\n"
          ]
        }
      ]
    },
    {
      "cell_type": "markdown",
      "source": [
        "**Métricas de Qualidade**\n"
      ],
      "metadata": {
        "id": "yeJwZpU6RjoF"
      }
    },
    {
      "cell_type": "code",
      "source": [
        "mae = mean_absolute_error(y.reshape(-1, 1), predictions)\n",
        "print(\"MAE: \", mae)"
      ],
      "metadata": {
        "colab": {
          "base_uri": "https://localhost:8080/"
        },
        "id": "oyVlm16JRTGm",
        "outputId": "4391a8ab-f085-4c40-87fe-714e4fa89670"
      },
      "execution_count": null,
      "outputs": [
        {
          "output_type": "stream",
          "name": "stdout",
          "text": [
            "MAE:  0.759743509911546\n"
          ]
        }
      ]
    },
    {
      "cell_type": "markdown",
      "source": [
        " Quanto menor o valor da média das diferenças absolutas entre o valor predito pelo modelo e o valor real observado (MAE), melhor é o desempenho do modelo. Nesse caso, o valor do MAE foi de 0,7597, indicando que o modelo tem uma boa precisão."
      ],
      "metadata": {
        "id": "jNWjymIrUl4A"
      }
    },
    {
      "cell_type": "code",
      "source": [
        "print(\"R2: \", r2)"
      ],
      "metadata": {
        "colab": {
          "base_uri": "https://localhost:8080/"
        },
        "id": "il7pwCpyRYnV",
        "outputId": "f9c71612-f01f-4c7b-a045-cb860c97d102"
      },
      "execution_count": null,
      "outputs": [
        {
          "output_type": "stream",
          "name": "stdout",
          "text": [
            "R2:  0.9342973096658964\n"
          ]
        }
      ]
    },
    {
      "cell_type": "markdown",
      "source": [
        "O coeficiente R2 indica o quão bem o modelo se ajusta aos dados. Quanto mais próximo de 1, melhor é o ajuste do modelo. Nesse caso, o valor de R2 foi de 0.93, o que significa que o modelo explica 93% da variância nos dados, deixando 7% da variância sem explicação pelo modelo."
      ],
      "metadata": {
        "id": "yH4vqbj0U7r8"
      }
    },
    {
      "cell_type": "code",
      "source": [
        "print(\"MSE: \", mse)"
      ],
      "metadata": {
        "colab": {
          "base_uri": "https://localhost:8080/"
        },
        "id": "4OOkleNWRcDK",
        "outputId": "4fd4f32d-bbcd-4302-d6d5-0eaea5402fd7"
      },
      "execution_count": null,
      "outputs": [
        {
          "output_type": "stream",
          "name": "stdout",
          "text": [
            "MSE:  1.2116482412825245\n"
          ]
        }
      ]
    },
    {
      "cell_type": "markdown",
      "source": [
        "a média dos erros quadrados, mede a diferença entre o valor predito pelo modelo e o valor real observado. Quanto menor o valor do MSE, melhor é o desempenho do modelo. Nesse caso, o valor do MSE foi de 1.2116, o que indica que o modelo tem uma boa precisão considerando o tamanho da base de dados."
      ],
      "metadata": {
        "id": "WdyqYfvSVMOx"
      }
    }
  ]
}